{
 "cells": [
  {
   "cell_type": "code",
   "execution_count": null,
   "id": "7cb75661-f415-4471-ba79-69fc066be8b0",
   "metadata": {},
   "outputs": [],
   "source": [
    "using AbhijitJulia"
   ]
  },
  {
   "cell_type": "code",
   "execution_count": null,
   "id": "0c1536f6-27c5-42fc-aa5b-ba632ef2e301",
   "metadata": {},
   "outputs": [],
   "source": []
  }
 ],
 "metadata": {
  "kernelspec": {
   "display_name": "Julia 1.8.0",
   "language": "julia",
   "name": "julia-1.8"
  },
  "language_info": {
   "name": ""
  }
 },
 "nbformat": 4,
 "nbformat_minor": 5
}
